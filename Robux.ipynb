{
  "nbformat": 4,
  "nbformat_minor": 0,
  "metadata": {
    "colab": {
      "provenance": [],
      "authorship_tag": "ABX9TyP0rtQLQeka18pmtaFVQMDq",
      "include_colab_link": true
    },
    "kernelspec": {
      "name": "python3",
      "display_name": "Python 3"
    },
    "language_info": {
      "name": "python"
    }
  },
  "cells": [
    {
      "cell_type": "markdown",
      "metadata": {
        "id": "view-in-github",
        "colab_type": "text"
      },
      "source": [
        "<a href=\"https://colab.research.google.com/github/Voided-Roblox/bub/blob/main/Robux.ipynb\" target=\"_parent\"><img src=\"https://colab.research.google.com/assets/colab-badge.svg\" alt=\"Open In Colab\"/></a>"
      ]
    },
    {
      "cell_type": "code",
      "execution_count": 1,
      "metadata": {
        "colab": {
          "base_uri": "https://localhost:8080/"
        },
        "id": "GBAT_rBpmdk2",
        "outputId": "79fe13d4-5252-43dd-f817-0c90a25b7597"
      },
      "outputs": [
        {
          "output_type": "stream",
          "name": "stdout",
          "text": [
            "hi\n"
          ]
        }
      ],
      "source": [
        "print (\"hi\")"
      ]
    },
    {
      "cell_type": "code",
      "source": [
        "\n",
        "\n",
        "\n",
        "\n",
        "\n",
        "\n",
        "\n",
        "\n",
        "\n",
        "\n",
        "\n",
        "\n",
        "\n",
        "\n",
        "\n",
        "\n",
        "\n",
        "\n",
        "\n",
        "\n",
        "\n",
        "\n",
        "\n",
        "\n",
        "\n",
        "\n",
        "\n",
        "\n",
        "\n",
        "print('PPPPP  Y   Y   TTTTT    H   H   OOOOO   N   N')\n",
        "print('P   P   Y Y      T      H   H   O   O   NN  N')\n",
        "print('PPPPP    Y       T      HHHHH   O   O   NN  N')\n",
        "print(\"P        Y       T      H   H   O   O   N N N\")\n",
        "print(\"P        Y       T      H   H   OOOOO   N  NN\")"
      ],
      "metadata": {
        "colab": {
          "base_uri": "https://localhost:8080/"
        },
        "id": "_MvHDkX_mmId",
        "outputId": "17d081a0-ed8e-4bb4-9627-72b028fa5210"
      },
      "execution_count": 3,
      "outputs": [
        {
          "output_type": "stream",
          "name": "stdout",
          "text": [
            "PPPPP  Y   Y   TTTTT    H   H   OOOOO   N   N\n",
            "P   P   Y Y      T      H   H   O   O   NN  N\n",
            "PPPPP    Y       T      HHHHH   O   O   NN  N\n",
            "P        Y       T      H   H   O   O   N N N \n",
            "P        Y       T      H   H   OOOOO   N  NN\n"
          ]
        }
      ]
    }
  ]
}