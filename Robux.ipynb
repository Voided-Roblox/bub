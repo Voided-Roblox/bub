{
  "nbformat": 4,
  "nbformat_minor": 0,
  "metadata": {
    "colab": {
      "provenance": [],
      "authorship_tag": "ABX9TyMpFWE6H3xSuO2Qi8PGQxaz",
      "include_colab_link": true
    },
    "kernelspec": {
      "name": "python3",
      "display_name": "Python 3"
    },
    "language_info": {
      "name": "python"
    }
  },
  "cells": [
    {
      "cell_type": "markdown",
      "metadata": {
        "id": "view-in-github",
        "colab_type": "text"
      },
      "source": [
        "<a href=\"https://colab.research.google.com/github/Voided-Roblox/bub/blob/main/Robux.ipynb\" target=\"_parent\"><img src=\"https://colab.research.google.com/assets/colab-badge.svg\" alt=\"Open In Colab\"/></a>"
      ]
    },
    {
      "cell_type": "code",
      "execution_count": 1,
      "metadata": {
        "colab": {
          "base_uri": "https://localhost:8080/"
        },
        "id": "GBAT_rBpmdk2",
        "outputId": "79fe13d4-5252-43dd-f817-0c90a25b7597"
      },
      "outputs": [
        {
          "output_type": "stream",
          "name": "stdout",
          "text": [
            "hi\n"
          ]
        }
      ],
      "source": [
        "print (\"hi\")"
      ]
    },
    {
      "cell_type": "code",
      "source": [
        "print (\"betá \")\n",
        "\n",
        "\n",
        "\n",
        "\n",
        "\n",
        "\n",
        "\n",
        "\n",
        "\n",
        "\n",
        "\n",
        "\n",
        "\n",
        "\n",
        "\n",
        "\n",
        "\n",
        "\n",
        "\n",
        "\n",
        "\n",
        "\n",
        "\n",
        "\n",
        "\n",
        "\n",
        "\n",
        "\n",
        "print(\"Hello beta how are you\")\n",
        "name= input('What is your name?')\n",
        "print(name)\n",
        "print (name, 'You like Roblox a lot')\n",
        "print(name, 'You like Roblox a lot', sep='\\n\\n\\t', end= '*******' )\n",
        "\n",
        "\n"
      ],
      "metadata": {
        "colab": {
          "base_uri": "https://localhost:8080/"
        },
        "id": "_MvHDkX_mmId",
        "outputId": "d4dfba3f-6527-4057-fdb7-f1409edc70f9"
      },
      "execution_count": 24,
      "outputs": [
        {
          "output_type": "stream",
          "name": "stdout",
          "text": [
            "betá \n",
            "Hello beta how are you\n",
            "What is your name?beta\n",
            "beta\n",
            "beta You like Roblox a lot\n",
            "beta\n",
            "\n",
            "\tYou like Roblox a lot*******"
          ]
        }
      ]
    }
  ]
}